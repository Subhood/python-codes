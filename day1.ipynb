{
 "cells": [
  {
   "cell_type": "code",
   "execution_count": 1,
   "id": "d210ba74-372a-46c5-a3d7-905045784081",
   "metadata": {},
   "outputs": [
    {
     "name": "stdout",
     "output_type": "stream",
     "text": [
      "hello\n"
     ]
    }
   ],
   "source": [
    "print(\"hello\")"
   ]
  },
  {
   "cell_type": "code",
   "execution_count": 6,
   "id": "fcca7dea-a78b-432e-9c54-c28c70cc2b82",
   "metadata": {},
   "outputs": [
    {
     "ename": "SyntaxError",
     "evalue": "incomplete input (3008296445.py, line 23)",
     "output_type": "error",
     "traceback": [
      "\u001b[1;36m  Cell \u001b[1;32mIn[6], line 23\u001b[1;36m\u001b[0m\n\u001b[1;33m    range(2\u001b[0m\n\u001b[1;37m           ^\u001b[0m\n\u001b[1;31mSyntaxError\u001b[0m\u001b[1;31m:\u001b[0m incomplete input\n"
     ]
    }
   ],
   "source": [
    "a=7\n",
    "b=6.9\n",
    "c='hello'\n",
    "print(type(a))\n",
    "print(type(b))\n",
    "print(type(c))\n",
    "print(a+b)\n",
    "print(type(a+b))\n",
    "print(a,b,c)\n",
    "\n",
    "list=[2,3,5]\n",
    "print(list)\n",
    "print(type(list))\n",
    "\n",
    "tuple=(2,3,4)\n",
    "print(tuple)\n",
    "print(type(tuple))\n",
    "\n",
    "#syntax of dict (key:value,key:value)\n",
    "dict={2:'avfrsdf',3:'aewafsda'}\n",
    "print(dict)\n",
    "print(type(dict))\n",
    "range(2"
   ]
  },
  {
   "cell_type": "code",
   "execution_count": null,
   "id": "357eb9e0-cb6b-4a97-baa5-17ea50488d52",
   "metadata": {},
   "outputs": [],
   "source": []
  },
  {
   "cell_type": "code",
   "execution_count": 7,
   "id": "5a12dd4c-9178-423c-84a2-0b824f453967",
   "metadata": {},
   "outputs": [
    {
     "name": "stdin",
     "output_type": "stream",
     "text": [
      "enter the number 5\n",
      "enter the number 4\n"
     ]
    },
    {
     "name": "stdout",
     "output_type": "stream",
     "text": [
      "9\n"
     ]
    }
   ],
   "source": [
    "a=int(input(\"enter the number\"))\n",
    "b=int(input(\"enter the number\"))\n",
    "c=a+b\n",
    "print(c)"
   ]
  },
  {
   "cell_type": "code",
   "execution_count": 14,
   "id": "891dd556-63f7-4cbf-ad5b-e1194d7d1713",
   "metadata": {},
   "outputs": [
    {
     "name": "stdin",
     "output_type": "stream",
     "text": [
      "enter three number: 5 6 7\n"
     ]
    },
    {
     "name": "stdout",
     "output_type": "stream",
     "text": [
      "18\n"
     ]
    }
   ],
   "source": [
    "#array intialization\n",
    "a,b,c=input(\"enter three number:\").split()\n",
    "d=int(a)+int(b)+int(c)\n",
    "print(d)"
   ]
  },
  {
   "cell_type": "code",
   "execution_count": 15,
   "id": "2f5a380f-c6a5-42aa-a87f-3dc457f21176",
   "metadata": {},
   "outputs": [
    {
     "name": "stdin",
     "output_type": "stream",
     "text": [
      "enter the number: 10\n",
      "enter the number: 5\n"
     ]
    },
    {
     "name": "stdout",
     "output_type": "stream",
     "text": [
      "add 15\n",
      "subtract 5\n",
      "mulitplication 50\n",
      "division 2.0\n",
      "remainder 0\n"
     ]
    }
   ],
   "source": [
    "a=input(\"enter the number:\")\n",
    "b=input(\"enter the number:\")\n",
    "add=int(a)+int(b)\n",
    "sub=int(a)-int(b)\n",
    "mul=int(a)*int(b)\n",
    "div=int(a)/int(b)\n",
    "mod=int(a)%int(b)\n",
    "print(\"add\",add)\n",
    "print(\"subtract\",sub)\n",
    "print(\"mulitplication\",mul)\n",
    "print(\"division\",div)\n",
    "print(\"remainder\",mod)"
   ]
  },
  {
   "cell_type": "code",
   "execution_count": null,
   "id": "dcb8e5ad-1a52-4dcb-a635-9d862b1e727b",
   "metadata": {},
   "outputs": [],
   "source": []
  }
 ],
 "metadata": {
  "kernelspec": {
   "display_name": "Python 3 (ipykernel)",
   "language": "python",
   "name": "python3"
  },
  "language_info": {
   "codemirror_mode": {
    "name": "ipython",
    "version": 3
   },
   "file_extension": ".py",
   "mimetype": "text/x-python",
   "name": "python",
   "nbconvert_exporter": "python",
   "pygments_lexer": "ipython3",
   "version": "3.12.3"
  }
 },
 "nbformat": 4,
 "nbformat_minor": 5
}
