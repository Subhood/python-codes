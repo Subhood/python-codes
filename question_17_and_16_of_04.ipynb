{
 "cells": [
  {
   "cell_type": "code",
   "execution_count": 2,
   "id": "f0893812-f568-4e66-a889-0e9995dc249a",
   "metadata": {},
   "outputs": [
    {
     "name": "stdin",
     "output_type": "stream",
     "text": [
      "enter the 1st number 78\n",
      "enter the 2nd number 0\n"
     ]
    },
    {
     "name": "stdout",
     "output_type": "stream",
     "text": [
      "enter the operation to be performed\n",
      "1.addition\n",
      "2.substraction\n",
      "3.multiplication\n",
      "4.division\n",
      "5.modulus\n"
     ]
    },
    {
     "name": "stdin",
     "output_type": "stream",
     "text": [
      "enter the choice 5\n"
     ]
    },
    {
     "name": "stdout",
     "output_type": "stream",
     "text": [
      "second number is zero cannot perferm division\n"
     ]
    }
   ],
   "source": [
    "# menu driven simple calculator\n",
    "a=int(input('enter the 1st number'))\n",
    "b=int(input('enter the 2nd number'))\n",
    "print('enter the operation to be performed')\n",
    "print('1.addition')\n",
    "print('2.substraction')\n",
    "print('3.multiplication')\n",
    "print('4.division')\n",
    "print('5.modulus')\n",
    "c=int(input('enter the choice'))\n",
    "match c:\n",
    "    case 1:\n",
    "        print(\"addition of two numbers\",a+b)\n",
    "    case 2:\n",
    "        print(\"substractation of two number\",a-b)\n",
    "    case 3:\n",
    "        print(\"multiplication of two numberas\",a*b)\n",
    "    case 4:\n",
    "            if b==0:\n",
    "                print(\"second number is zero cannot perferm division\")\n",
    "            else:\n",
    "              print(\" division of two numbers\",a/b)\n",
    "    case 5:\n",
    "            if b==0:\n",
    "                 print(\"second number is zero cannot perferm division\")\n",
    "            else:\n",
    "                print(\"division of two numbers\",a%b)\n",
    "    case _:print('invalid choice')"
   ]
  },
  {
   "cell_type": "code",
   "execution_count": 3,
   "id": "2ae8b032-bc1e-4781-a3bb-f52053f95309",
   "metadata": {},
   "outputs": [
    {
     "name": "stdin",
     "output_type": "stream",
     "text": [
      "enter the number: 345\n"
     ]
    },
    {
     "name": "stdout",
     "output_type": "stream",
     "text": [
      "543\n"
     ]
    }
   ],
   "source": [
    "##### Write a program to reverse a digits of number\n",
    "num1=int(input(\"enter the number:\"))\n",
    "rev=0\n",
    "while num1!=0:\n",
    "    number=num1%10\n",
    "    rev=rev*10+number\n",
    "    num1=num1//10\n",
    "print(\"revered number is \",rev)"
   ]
  },
  {
   "cell_type": "code",
   "execution_count": 4,
   "id": "301605ab-6fdd-4946-960c-06d3e1b57e79",
   "metadata": {},
   "outputs": [
    {
     "name": "stdin",
     "output_type": "stream",
     "text": [
      "enter the number 4\n"
     ]
    },
    {
     "name": "stdout",
     "output_type": "stream",
     "text": [
      "factorial of 4 is 24\n"
     ]
    }
   ],
   "source": [
    "#Write a program to find the factorial of a number.\n",
    "num=int(input(\"enter the number\"))\n",
    "n=num\n",
    "f=1\n",
    "while num>1:\n",
    "    f=f*num\n",
    "    num=num-1\n",
    "\n",
    "print(\"factorial of\",n,\"is\",f)"
   ]
  },
  {
   "cell_type": "code",
   "execution_count": null,
   "id": "46a36131-27d3-4da1-a0e0-c9e2c8a26617",
   "metadata": {},
   "outputs": [],
   "source": [
    "# find wheather the number is prime or not\n",
    "num=int(input(\"enter the number\"))\n",
    "s=num\n",
    "for i in range(2,int(num/2)):\n",
    "        if num%i==0:\n",
    "            print('it is not prime number')\n",
    "            break\n",
    "    \n",
    "else:\n",
    "    print(\"it is a prime number\")"
   ]
  },
  {
   "cell_type": "code",
   "execution_count": 87,
   "id": "e29a4c12-a9c2-4d81-a190-ff6ad199cb64",
   "metadata": {},
   "outputs": [
    {
     "name": "stdin",
     "output_type": "stream",
     "text": [
      "enter the char @\n"
     ]
    },
    {
     "name": "stdout",
     "output_type": "stream",
     "text": [
      "spcail character\n"
     ]
    }
   ],
   "source": [
    "#Write a program to identify the input character by the user as lower case, uper case, numerics or special characters.\n",
    "string=input('enter the char')\n",
    "A=\"ABCDEFGHIJKLMNOPQRSTUVWXYZ\"\n",
    "B=\"abcdefghijklmnopqrstuvwxyz\"\n",
    "c=\"1234567890\"\n",
    "d='!@#$%^&*+~'\n",
    "if string in A[0:25]:\n",
    "    print(\"upper case\")\n",
    "if string in B[0:25]:\n",
    "    print(\"lower case\")\n",
    "if string in c[0:9]:\n",
    "    print(\"numeric\")\n",
    "if string in d[0:len(d)]:\n",
    "    print(\"spcail character\")\n",
    "\n"
   ]
  },
  {
   "cell_type": "code",
   "execution_count": 37,
   "id": "979f86ae-3f09-4100-a3ef-4211f2f16081",
   "metadata": {},
   "outputs": [
    {
     "name": "stdin",
     "output_type": "stream",
     "text": [
      "enter a string racecar\n"
     ]
    },
    {
     "name": "stdout",
     "output_type": "stream",
     "text": [
      "given string is a palindrome\n"
     ]
    }
   ],
   "source": [
    "string=input(\"enter a string\")\n",
    "s=len(string)\n",
    "n=0\n",
    "string1=\"\"\n",
    "for s in range(s-1,-1,-1):\n",
    "        string1+=string[s]\n",
    "if string1==string:\n",
    "    print(\"given string is a palindrome\")\n",
    "else:\n",
    "    print(\"given string is not a palindrome\")"
   ]
  },
  {
   "cell_type": "code",
   "execution_count": 17,
   "id": "d61c4a12-14e1-4290-af89-cd5e77d27fdc",
   "metadata": {},
   "outputs": [
    {
     "name": "stdin",
     "output_type": "stream",
     "text": [
      "enter the number of elements : 4\n"
     ]
    },
    {
     "name": "stdout",
     "output_type": "stream",
     "text": [
      "enter the elements\n"
     ]
    },
    {
     "name": "stdin",
     "output_type": "stream",
     "text": [
      " 23\n",
      " 433\n",
      " we\n",
      " 23\n"
     ]
    },
    {
     "name": "stdout",
     "output_type": "stream",
     "text": [
      "sum of all the elements is \n",
      "string found cannot add we and string\n",
      "479\n"
     ]
    }
   ],
   "source": [
    "#Write a Python program to find the sum of all elements in a list and handle the case where the list contains non-numeric values.\n",
    "list1=[]\n",
    "n=int(input(\"enter the number of elements :\"))\n",
    "print('enter the elements')\n",
    "for i in range(0,n):\n",
    "    e=input()\n",
    "    list1.append(e)\n",
    "    total=0\n",
    "print('sum of all the elements is ')\n",
    "for i in range(0,n):\n",
    "    try:\n",
    "        total+=int(list1[i])\n",
    "    except ValueError:\n",
    "        print(f\"string found cannot add {list1[i]} and string\")\n",
    "\n",
    "print(total)\n"
   ]
  },
  {
   "cell_type": "code",
   "execution_count": 9,
   "id": "b2ee4898-019e-4cea-8aa7-135a30ddb10c",
   "metadata": {},
   "outputs": [
    {
     "name": "stdin",
     "output_type": "stream",
     "text": [
      "number of students 1\n",
      "enter the name fg\n",
      "enter the cgpa 89\n"
     ]
    },
    {
     "name": "stdout",
     "output_type": "stream",
     "text": [
      "{'fg': '89'}\n",
      "ran successfully\n",
      "89.0\n"
     ]
    }
   ],
   "source": [
    "#Create a Dictionary containing the names of students and their corresponding grades. Write a program to calculate the average grade and handle the case where the Dictionary is empty.\n",
    "dict1={}\n",
    "n=int(input(\"number of students\"))\n",
    "for i in range(0,n):\n",
    "    name=input(\"enter the name\")\n",
    "    grade=input(\"enter the cgpa\")\n",
    "    dict1[name]=grade\n",
    "print(dict1)\n",
    "x=list(dict1.values())\n",
    "total=0\n",
    "try:\n",
    "    for i in range(0,n):\n",
    "        total+=int(x[i])\n",
    "except ValueError:\n",
    "    print(\"empty value\")\n",
    "finally:\n",
    " print(\"ran successfully\")\n",
    "avg=total/len(dict1)\n",
    "print(avg)"
   ]
  },
  {
   "cell_type": "code",
   "execution_count": null,
   "id": "e59c8b0e-e971-45d9-9d3a-772112a3ec3e",
   "metadata": {},
   "outputs": [],
   "source": []
  }
 ],
 "metadata": {
  "kernelspec": {
   "display_name": "Python 3 (ipykernel)",
   "language": "python",
   "name": "python3"
  },
  "language_info": {
   "codemirror_mode": {
    "name": "ipython",
    "version": 3
   },
   "file_extension": ".py",
   "mimetype": "text/x-python",
   "name": "python",
   "nbconvert_exporter": "python",
   "pygments_lexer": "ipython3",
   "version": "3.12.3"
  }
 },
 "nbformat": 4,
 "nbformat_minor": 5
}
