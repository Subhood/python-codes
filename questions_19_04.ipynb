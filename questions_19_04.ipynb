{
 "cells": [
  {
   "cell_type": "code",
   "execution_count": 28,
   "id": "4e7ada56-c65d-4677-a6f5-463967699df2",
   "metadata": {},
   "outputs": [
    {
     "name": "stdin",
     "output_type": "stream",
     "text": [
      "enter the date to book the ticket on 12\n"
     ]
    },
    {
     "name": "stdout",
     "output_type": "stream",
     "text": [
      "dict_keys(['Agar', 'Delhi', 'Kashmir'])\n"
     ]
    },
    {
     "name": "stdin",
     "output_type": "stream",
     "text": [
      "enter the destination spelling correctly: Agar\n",
      "enter the number of passengers 1\n",
      "\n",
      "enter the name of the passenger abhi\n",
      "enter the age of the passenger 19\n",
      "enter the gender of the passenger M\n"
     ]
    },
    {
     "name": "stdout",
     "output_type": "stream",
     "text": [
      "1.gernal ticket\n",
      " 2.sleeper ticket\n",
      " 3.Ac ticket\n",
      " 4.first_class_ticket\n",
      " 5.exit\n"
     ]
    },
    {
     "name": "stdin",
     "output_type": "stream",
     "text": [
      "enter your choice 3\n"
     ]
    },
    {
     "name": "stdout",
     "output_type": "stream",
     "text": [
      "\n",
      "\n",
      "date of journey 12\n",
      "destination Agar\n",
      "Name of the passenger abhi\n",
      "age  19\n",
      "gender  M\n",
      "ticket fare 2050\n",
      "coach name: AC 8\n",
      "berth number 81\n"
     ]
    }
   ],
   "source": [
    "#railway booking\n",
    "import random\n",
    "class tickets:\n",
    "    def print_ticket(self,date,destination,name,age,gender,ticket_cost,coach_name):\n",
    "        print(\"\\n\\ndate of journey\",date)\n",
    "        print(\"destination\",destination)\n",
    "        print(\"Name of the passenger\",name)\n",
    "        print(\"age \",age)\n",
    "        print(\"gender \",gender)\n",
    "        print(\"ticket fare\",ticket_cost)\n",
    "        print(\"coach name:\", coach_name,random.randint(0,9))\n",
    "        print(\"berth number\",random.randint(1,100))\n",
    "        \n",
    "class general_ticket(tickets):\n",
    "    def general_ticket(self,distance):\n",
    "        ticket_price=distance*2+50\n",
    "        super().print_ticket(date1,dest,nam1,age1,gender1,ticket_fare,'GN')\n",
    "        return ticket_price\n",
    "\n",
    "class sleeper_ticket(tickets):\n",
    "    def sleeper_ticket(self,distance):\n",
    "        ticket_price=distance*2+50\n",
    "        super().print_ticket(date1,dest,nam1,age1,gender1,ticket_fare,'SL')\n",
    "        return ticket_price\n",
    "\n",
    "class AC_ticket(tickets):\n",
    "    def AC_ticket(self,distance):\n",
    "        ticket_price=distance*4+50\n",
    "        super().print_ticket(date1,dest,nam1,age1,gender1,ticket_fare,'AC')\n",
    "        return ticket_price\n",
    "\n",
    "class first_class_ticket(tickets):\n",
    "    def first_class_ticket(self,distance):\n",
    "        ticket_price=distance*5+50\n",
    "        super().print_ticket(date1,dest,nam1,age1,gender1,ticket_fare,'FC')\n",
    "        return ticket_price\n",
    "        \n",
    "if __name__==\"__main__\":\n",
    "    book_ticket=tickets()\n",
    "    gs=general_ticket()\n",
    "    sl=sleeper_ticket()\n",
    "    ac=AC_ticket()\n",
    "    fc=first_class_ticket()  \n",
    "    date1=input(\"enter the date to book the ticket on\")\n",
    "    dict1={'Agar':400,'Delhi':500,'Kashmir':600}\n",
    "    print(dict1.keys())\n",
    "    dest=input(\"enter the destination spelling correctly:\")\n",
    "    dist=int(dict1[dest])\n",
    "    n=int(input(\"enter the number of passengers\"))\n",
    "    for i in range(0,n):\n",
    "        nam1=input(\"\\nenter the name of the passenger\")\n",
    "        age1=int(input(\"enter the age of the passenger\"))\n",
    "        gender1=input(\"enter the gender of the passenger\")\n",
    "        print(\"1.gernal ticket\\n 2.sleeper ticket\\n 3.Ac ticket\\n 4.first_class_ticket\\n 5.exit\")\n",
    "        n=int(input(\"enter your choice\"))\n",
    "        match n:\n",
    "            case 1:\n",
    "                ticket_fare=gs.general_ticket(dist)\n",
    "            case 2:\n",
    "                 ticket_fare=sl.sleeper_ticket(dist)\n",
    "            case 3:\n",
    "                 ticket_fare=ac.AC_ticket(dist)\n",
    "            case 4:\n",
    "                ticket_fare=fc.first_class_ticket(dist)\n",
    "            case _:\n",
    "                print(\"enter valid selection\")\n",
    "    \n",
    "        \n",
    "        \n",
    "            \n",
    "            \n",
    "            \n",
    "     "
   ]
  },
  {
   "cell_type": "code",
   "execution_count": null,
   "id": "6efa82a4-8b53-4852-915f-97e7c66a9f11",
   "metadata": {},
   "outputs": [],
   "source": []
  }
 ],
 "metadata": {
  "kernelspec": {
   "display_name": "Python 3 (ipykernel)",
   "language": "python",
   "name": "python3"
  },
  "language_info": {
   "codemirror_mode": {
    "name": "ipython",
    "version": 3
   },
   "file_extension": ".py",
   "mimetype": "text/x-python",
   "name": "python",
   "nbconvert_exporter": "python",
   "pygments_lexer": "ipython3",
   "version": "3.12.3"
  }
 },
 "nbformat": 4,
 "nbformat_minor": 5
}
