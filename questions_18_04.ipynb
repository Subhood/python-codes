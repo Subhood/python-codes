{
 "cells": [
  {
   "cell_type": "code",
   "execution_count": 5,
   "id": "dd7bac89-2451-4f30-a309-20920322c1b3",
   "metadata": {},
   "outputs": [
    {
     "name": "stdin",
     "output_type": "stream",
     "text": [
      "enter the temperature in degress 42\n"
     ]
    },
    {
     "name": "stdout",
     "output_type": "stream",
     "text": [
      "temperature in fahrenheit 107.6 F\n"
     ]
    }
   ],
   "source": [
    "#convert a temperature from celsius to fahrenheit\n",
    "temperature_in_celsius=float(input(\"enter the temperature in degress\"))\n",
    "temperature_in_fahrenheit=(temperature_in_celsius*9/5)+32\n",
    "print(\"temperature in fahrenheit\",temperature_in_fahrenheit,\"F\")\n"
   ]
  },
  {
   "cell_type": "code",
   "execution_count": 9,
   "id": "66b353b6-1c25-4b2b-8576-45c17cfd9313",
   "metadata": {},
   "outputs": [
    {
     "name": "stdin",
     "output_type": "stream",
     "text": [
      "enter the size of list 5\n"
     ]
    },
    {
     "name": "stdout",
     "output_type": "stream",
     "text": [
      "enter the elements of the list\n"
     ]
    },
    {
     "name": "stdin",
     "output_type": "stream",
     "text": [
      " 3\n",
      " 2\n",
      " 7\n",
      " 4\n",
      " 9\n"
     ]
    },
    {
     "name": "stdout",
     "output_type": "stream",
     "text": [
      "7\n"
     ]
    }
   ],
   "source": [
    "#find the second largesst element in a list\n",
    "Size_of_list=int(input(\"enter the size of list\"))\n",
    "list1=[]\n",
    "print(\"enter the elements of the list\")\n",
    "for i in range(0,Size_of_list):\n",
    "    element=int(input())\n",
    "    list1.append(element)\n",
    "\n",
    "list1.sort()\n",
    "print(\"the second largest value of the given is \",list1[-2])\n"
   ]
  },
  {
   "cell_type": "code",
   "execution_count": 26,
   "id": "e9f28b82-b111-4b38-bfae-44f9a18df737",
   "metadata": {},
   "outputs": [
    {
     "name": "stdin",
     "output_type": "stream",
     "text": [
      "enter the number of elements 5\n"
     ]
    },
    {
     "name": "stdout",
     "output_type": "stream",
     "text": [
      "enter the elments\n"
     ]
    },
    {
     "name": "stdin",
     "output_type": "stream",
     "text": [
      " 3\n",
      " 5\n",
      " 2\n",
      " 3\n",
      " 4\n"
     ]
    },
    {
     "name": "stdout",
     "output_type": "stream",
     "text": [
      "3:2\n",
      "5:1\n",
      "2:1\n",
      "4:1\n"
     ]
    }
   ],
   "source": [
    "#count the occurrances of each element in a list\n",
    "list1=[]\n",
    "n=int(input(\"enter the number of elements\"))\n",
    "print(\"enter the elments\")\n",
    "for i in range(0,n):\n",
    "    element=input()\n",
    "    list1.append(element)\n",
    "\n",
    "dict1={}\n",
    "for i in list1:\n",
    "    if i in dict1:\n",
    "        dict1[i]+=1\n",
    "    else:\n",
    "        dict1[i]=1\n",
    "\n",
    "for i, count in dict1.items():\n",
    "    print(f\"{i}:{count}\")\n"
   ]
  },
  {
   "cell_type": "code",
   "execution_count": 11,
   "id": "26c58287-e4a0-434a-906a-a88d21907179",
   "metadata": {},
   "outputs": [
    {
     "name": "stdin",
     "output_type": "stream",
     "text": [
      "enter the size of the list 5\n"
     ]
    },
    {
     "name": "stdout",
     "output_type": "stream",
     "text": [
      "enter the elements of the list\n"
     ]
    },
    {
     "name": "stdin",
     "output_type": "stream",
     "text": [
      " 3\n",
      " 7\n",
      " 9\n",
      " 5\n",
      " 3\n"
     ]
    },
    {
     "name": "stdout",
     "output_type": "stream",
     "text": [
      "sum of even numbers in the list is 0\n"
     ]
    }
   ],
   "source": [
    "#find the sum of all the even numbers in the list \n",
    "intial_list=[]\n",
    "even_value_list=[]\n",
    "total_sum=0\n",
    "size_of_the_list=int(input(\"enter the size of the list\"))\n",
    "print(\"enter the elements of the list\")\n",
    "for i in range(0,size_of_the_list):\n",
    "    element=int(input())\n",
    "    intial_list.append(element)\n",
    "\n",
    "for i in range(0,size_of_the_list):\n",
    "    value=intial_list[i]%2\n",
    "    if value==0:\n",
    "        value1=intial_list[i]\n",
    "        even_value_list.append(value1)\n",
    "\n",
    "for i in range(0,len(even_value_list)):\n",
    "    total_sum+=even_value_list[i]\n",
    "\n",
    "print(\"sum of even numbers in the list is\",total_sum)"
   ]
  },
  {
   "cell_type": "code",
   "execution_count": 19,
   "id": "ca2fcd87-be30-45b4-8e25-b444d1e2d9f9",
   "metadata": {},
   "outputs": [
    {
     "name": "stdin",
     "output_type": "stream",
     "text": [
      "enter the string aeiou AEIOU\n"
     ]
    },
    {
     "name": "stdout",
     "output_type": "stream",
     "text": [
      "number of vowels in the given string aeiou AEIOU is  10\n"
     ]
    }
   ],
   "source": [
    "#count the number of vowels in the string\n",
    "string=(\"A\",\"E\",\"I\",\"O\",\"U\",'a','e','i','o','u')\n",
    "input_string=input(\"enter the string\")\n",
    "count=0\n",
    "for i in range(0,len(input_string)):\n",
    "    for j in range(0,len(string)):\n",
    "        if input_string[i]==string[j]:\n",
    "            count=count+1\n",
    "\n",
    "print(f\"number of vowels in the given string {input_string} is \",count)"
   ]
  },
  {
   "cell_type": "code",
   "execution_count": 24,
   "id": "ef62b29b-586e-47b5-aba3-9bcf875cb0a7",
   "metadata": {},
   "outputs": [
    {
     "name": "stdin",
     "output_type": "stream",
     "text": [
      "enter the sentence subhood the gamer\n"
     ]
    },
    {
     "name": "stdout",
     "output_type": "stream",
     "text": [
      "gamer the subhood\n"
     ]
    }
   ],
   "source": [
    "#reverse the words in the given sentences\n",
    "input_string=input(\"enter the sentence\")\n",
    "words=input_string.split()\n",
    "reversed_words=\"\"\n",
    "for i in range(len(words)-1,-1,-1):\n",
    "    reversed_words+=words[i]\n",
    "    if i!=0:\n",
    "        reversed_words+=\" \"\n",
    "print(reversed_words)\n",
    "            "
   ]
  },
  {
   "cell_type": "code",
   "execution_count": 15,
   "id": "889b0f71-7796-4066-8d63-edd8d3ab5c86",
   "metadata": {},
   "outputs": [
    {
     "name": "stdin",
     "output_type": "stream",
     "text": [
      "enter the fruit names mango apple grapes\n"
     ]
    },
    {
     "name": "stdout",
     "output_type": "stream",
     "text": [
      "['mango', 'apple', 'grapes']\n"
     ]
    },
    {
     "name": "stdin",
     "output_type": "stream",
     "text": [
      "enter which fruit to be replaced grapes\n",
      "enter the new fruit banana\n"
     ]
    },
    {
     "name": "stdout",
     "output_type": "stream",
     "text": [
      "mango apple banana\n",
      "\n"
     ]
    }
   ],
   "source": [
    "#create file named as Fruits and add the fruit names by taking input from the user after that replace a fruit name with other fruit name entered by the user\n",
    "\n",
    "import os\n",
    "with open(\"fruit_name.txt\",'w') as f:\n",
    "    f.write(\"the fruit names are:\")\n",
    "    f.close()\n",
    "\n",
    "user_input=input(\"enter the fruit names\")\n",
    "with open(\"fruit_name.txt\",'w') as f:\n",
    "    f.write(user_input+\"\\n\")\n",
    "    f.close()\n",
    "\n",
    "with open(\"fruit_name.txt\",'r') as f:\n",
    "    fruits=f.read()\n",
    "    print(fruits)\n",
    "    f.close()\n",
    "\n",
    "fruit_to_replace=input(\"enter which fruit to be replaced\")\n",
    "new_fruit=input(\"enter the new fruit\")\n",
    "with open(\"fruit_name.txt\",'r') as f:\n",
    "    fruits=f.read()\n",
    "    new_fruits=fruits.replace(fruit_to_replace,new_fruit)\n",
    "    f.close()\n",
    "\n",
    "with open(\"fruit_txt\",'w')as f:\n",
    "    f.write(new_fruits)\n",
    "    print(new_fruits)\n",
    "    f.close()"
   ]
  },
  {
   "cell_type": "code",
   "execution_count": null,
   "id": "0d7d25b8-c5b4-469c-b4d8-83355b189c22",
   "metadata": {},
   "outputs": [],
   "source": []
  }
 ],
 "metadata": {
  "kernelspec": {
   "display_name": "Python 3 (ipykernel)",
   "language": "python",
   "name": "python3"
  },
  "language_info": {
   "codemirror_mode": {
    "name": "ipython",
    "version": 3
   },
   "file_extension": ".py",
   "mimetype": "text/x-python",
   "name": "python",
   "nbconvert_exporter": "python",
   "pygments_lexer": "ipython3",
   "version": "3.12.3"
  }
 },
 "nbformat": 4,
 "nbformat_minor": 5
}
